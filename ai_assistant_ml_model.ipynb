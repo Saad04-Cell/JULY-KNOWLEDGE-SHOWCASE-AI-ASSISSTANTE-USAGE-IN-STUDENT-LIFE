{
 "cells": [
  {
   "cell_type": "markdown",
   "id": "736570d0-d238-4509-87da-444da6a498c2",
   "metadata": {},
   "source": [
    "#  AI-Powered Student Assistant Analysis\n",
    "\n",
    "In this project, I used data from student interactions with an AI learning assistant to predict whether students would reuse the tool. The goal is to understand key behavioral patterns that drive repeated usage of AI in education.\n"
   ]
  },
  {
   "cell_type": "markdown",
   "id": "d1ce92d5-e186-4ded-bcb5-4ccbc52dfc3d",
   "metadata": {},
   "source": [
    "## Step 1: Load and View the Dataset\n",
    "\n",
    "I load the cleaned Excel file which contains session details such as:\n",
    "- Student level\n",
    "- Task type\n",
    "- Final outcome\n",
    "- Satisfaction rating\n",
    "- Whether they reused the AI tool\n"
   ]
  },
  {
   "cell_type": "code",
   "execution_count": 1,
   "id": "88996a62",
   "metadata": {},
   "outputs": [],
   "source": [
    "import pandas as pd\n",
    "from sklearn.model_selection import train_test_split\n",
    "from sklearn.ensemble import RandomForestClassifier\n",
    "from sklearn.preprocessing import LabelEncoder\n",
    "from sklearn.metrics import accuracy_score, classification_report\n",
    "import matplotlib.pyplot as plt\n",
    "import seaborn as sns\n"
   ]
  },
  {
   "cell_type": "code",
   "execution_count": 2,
   "id": "269f4a8e",
   "metadata": {},
   "outputs": [
    {
     "data": {
      "text/html": [
       "<div>\n",
       "<style scoped>\n",
       "    .dataframe tbody tr th:only-of-type {\n",
       "        vertical-align: middle;\n",
       "    }\n",
       "\n",
       "    .dataframe tbody tr th {\n",
       "        vertical-align: top;\n",
       "    }\n",
       "\n",
       "    .dataframe thead th {\n",
       "        text-align: right;\n",
       "    }\n",
       "</style>\n",
       "<table border=\"1\" class=\"dataframe\">\n",
       "  <thead>\n",
       "    <tr style=\"text-align: right;\">\n",
       "      <th></th>\n",
       "      <th>SessionID</th>\n",
       "      <th>StudentLevel</th>\n",
       "      <th>Discipline</th>\n",
       "      <th>SessionDate</th>\n",
       "      <th>SessionLengthMin</th>\n",
       "      <th>TotalPrompts</th>\n",
       "      <th>TaskType</th>\n",
       "      <th>AI_AssistanceLevel</th>\n",
       "      <th>FinalOutcome</th>\n",
       "      <th>UsedAgain</th>\n",
       "      <th>SatisfactionRating</th>\n",
       "      <th>SuccessFlag</th>\n",
       "    </tr>\n",
       "  </thead>\n",
       "  <tbody>\n",
       "    <tr>\n",
       "      <th>0</th>\n",
       "      <td>SESSION00001</td>\n",
       "      <td>Undergraduate</td>\n",
       "      <td>Computer Science</td>\n",
       "      <td>2024-11-03</td>\n",
       "      <td>31.20</td>\n",
       "      <td>11</td>\n",
       "      <td>Studying</td>\n",
       "      <td>2</td>\n",
       "      <td>Assignment Completed</td>\n",
       "      <td>True</td>\n",
       "      <td>1.0</td>\n",
       "      <td>1</td>\n",
       "    </tr>\n",
       "    <tr>\n",
       "      <th>1</th>\n",
       "      <td>SESSION00002</td>\n",
       "      <td>Undergraduate</td>\n",
       "      <td>Psychology</td>\n",
       "      <td>2024-08-25</td>\n",
       "      <td>13.09</td>\n",
       "      <td>6</td>\n",
       "      <td>Studying</td>\n",
       "      <td>3</td>\n",
       "      <td>Assignment Completed</td>\n",
       "      <td>True</td>\n",
       "      <td>2.0</td>\n",
       "      <td>1</td>\n",
       "    </tr>\n",
       "    <tr>\n",
       "      <th>2</th>\n",
       "      <td>SESSION00003</td>\n",
       "      <td>Undergraduate</td>\n",
       "      <td>Business</td>\n",
       "      <td>2025-01-12</td>\n",
       "      <td>19.22</td>\n",
       "      <td>5</td>\n",
       "      <td>Coding</td>\n",
       "      <td>3</td>\n",
       "      <td>Assignment Completed</td>\n",
       "      <td>True</td>\n",
       "      <td>3.3</td>\n",
       "      <td>1</td>\n",
       "    </tr>\n",
       "    <tr>\n",
       "      <th>3</th>\n",
       "      <td>SESSION00004</td>\n",
       "      <td>Undergraduate</td>\n",
       "      <td>Computer Science</td>\n",
       "      <td>2025-05-06</td>\n",
       "      <td>3.70</td>\n",
       "      <td>1</td>\n",
       "      <td>Coding</td>\n",
       "      <td>3</td>\n",
       "      <td>Assignment Completed</td>\n",
       "      <td>True</td>\n",
       "      <td>3.5</td>\n",
       "      <td>1</td>\n",
       "    </tr>\n",
       "    <tr>\n",
       "      <th>4</th>\n",
       "      <td>SESSION00005</td>\n",
       "      <td>Undergraduate</td>\n",
       "      <td>Psychology</td>\n",
       "      <td>2025-03-18</td>\n",
       "      <td>28.12</td>\n",
       "      <td>9</td>\n",
       "      <td>Writing</td>\n",
       "      <td>3</td>\n",
       "      <td>Assignment Completed</td>\n",
       "      <td>True</td>\n",
       "      <td>2.9</td>\n",
       "      <td>1</td>\n",
       "    </tr>\n",
       "  </tbody>\n",
       "</table>\n",
       "</div>"
      ],
      "text/plain": [
       "      SessionID   StudentLevel        Discipline SessionDate  \\\n",
       "0  SESSION00001  Undergraduate  Computer Science  2024-11-03   \n",
       "1  SESSION00002  Undergraduate        Psychology  2024-08-25   \n",
       "2  SESSION00003  Undergraduate          Business  2025-01-12   \n",
       "3  SESSION00004  Undergraduate  Computer Science  2025-05-06   \n",
       "4  SESSION00005  Undergraduate        Psychology  2025-03-18   \n",
       "\n",
       "   SessionLengthMin  TotalPrompts  TaskType  AI_AssistanceLevel  \\\n",
       "0             31.20            11  Studying                   2   \n",
       "1             13.09             6  Studying                   3   \n",
       "2             19.22             5    Coding                   3   \n",
       "3              3.70             1    Coding                   3   \n",
       "4             28.12             9   Writing                   3   \n",
       "\n",
       "           FinalOutcome  UsedAgain  SatisfactionRating  SuccessFlag  \n",
       "0  Assignment Completed       True                 1.0            1  \n",
       "1  Assignment Completed       True                 2.0            1  \n",
       "2  Assignment Completed       True                 3.3            1  \n",
       "3  Assignment Completed       True                 3.5            1  \n",
       "4  Assignment Completed       True                 2.9            1  "
      ]
     },
     "execution_count": 2,
     "metadata": {},
     "output_type": "execute_result"
    }
   ],
   "source": [
    "\n",
    "df = pd.read_excel(\"ai_assistant_usage_student_life.xlsx\")\n",
    "df.head()\n"
   ]
  },
  {
   "cell_type": "code",
   "execution_count": null,
   "id": "8e1a417a-113b-4565-8de9-b8f430f77b1d",
   "metadata": {},
   "outputs": [],
   "source": [
    "##  Step 2: Select Useful Columns\n",
    "\n",
    "I filter out only the relevant features that may influence reuse behavior and drop any rows with missing data.\n"
   ]
  },
  {
   "cell_type": "code",
   "execution_count": 3,
   "id": "c2288b06",
   "metadata": {},
   "outputs": [],
   "source": [
    "# Select only needed columns\n",
    "df = df[['StudentLevel', 'Discipline', 'SessionLengthMin', 'TotalPrompts',\n",
    "         'TaskType', 'FinalOutcome', 'SatisfactionRating', 'SuccessFlag', 'UsedAgain']]\n",
    "\n",
    "# Drop rows with missing values (if any)\n",
    "df.dropna(inplace=True)\n"
   ]
  },
  {
   "cell_type": "code",
   "execution_count": null,
   "id": "c3c5aef1-bf80-4bd8-abc9-c5dfc56a0d21",
   "metadata": {},
   "outputs": [],
   "source": [
    "##  Step 3: Encode Categorical Variables\n",
    "\n",
    "I convert text-based columns like `TaskType`, `FinalOutcome`, and `Discipline` into numeric values so that the machine learning model can process them.\n"
   ]
  },
  {
   "cell_type": "code",
   "execution_count": 5,
   "id": "136616ef",
   "metadata": {},
   "outputs": [],
   "source": [
    "# Encode categorical variables\n",
    "le = LabelEncoder()\n",
    "for col in ['StudentLevel', 'Discipline', 'TaskType', 'FinalOutcome']:\n",
    "    df[col] = le.fit_transform(df[col])\n",
    "\n",
    "# Convert target to binary\n",
    "df['UsedAgain'] = df['UsedAgain'].astype(int)\n"
   ]
  },
  {
   "cell_type": "code",
   "execution_count": 6,
   "id": "b777bd71",
   "metadata": {},
   "outputs": [],
   "source": [
    "X = df.drop('UsedAgain', axis=1)\n",
    "y = df['UsedAgain']\n",
    "\n",
    "X_train, X_test, y_train, y_test = train_test_split(X, y, test_size=0.2, random_state=42)\n"
   ]
  },
  {
   "cell_type": "code",
   "execution_count": null,
   "id": "8426e820-b318-4bd7-ba87-1a8e9b105b50",
   "metadata": {},
   "outputs": [],
   "source": [
    "## Step 4: Train the Model\n",
    "I train a Random Forest Classifier to predict whether a student will reuse the AI assistant based on their behavior.\n"
   ]
  },
  {
   "cell_type": "code",
   "execution_count": 7,
   "id": "875f7fa1",
   "metadata": {},
   "outputs": [
    {
     "name": "stdout",
     "output_type": "stream",
     "text": [
      "Accuracy: 0.7245\n",
      "              precision    recall  f1-score   support\n",
      "\n",
      "           0       0.58      0.39      0.46       615\n",
      "           1       0.76      0.87      0.81      1385\n",
      "\n",
      "    accuracy                           0.72      2000\n",
      "   macro avg       0.67      0.63      0.64      2000\n",
      "weighted avg       0.71      0.72      0.71      2000\n",
      "\n"
     ]
    }
   ],
   "source": [
    "model = RandomForestClassifier(random_state=42)\n",
    "model.fit(X_train, y_train)\n",
    "\n",
    "y_pred = model.predict(X_test)\n",
    "print(\"Accuracy:\", accuracy_score(y_test, y_pred))\n",
    "print(classification_report(y_test, y_pred))\n"
   ]
  },
  {
   "cell_type": "code",
   "execution_count": null,
   "id": "6effed9d-6363-4cc8-886e-5164db663609",
   "metadata": {},
   "outputs": [],
   "source": [
    "## Result: Model Performance\n",
    "Accuracy: 72%  \n",
    "The model is strong for identifying students who reused the tool. which is helpful for improving long-term engagement.This means the model is effective at recognizing positive AI engagement.\n"
   ]
  },
  {
   "cell_type": "code",
   "execution_count": 8,
   "id": "cdb190a7",
   "metadata": {},
   "outputs": [
    {
     "data": {
      "image/png": "[encoded data removed]",
      "text/plain": [
       "<Figure size 1000x600 with 1 Axes>"
      ]
     },
     "metadata": {},
     "output_type": "display_data"
    }
   ],
   "source": [
    "importances = model.feature_importances_\n",
    "features = X.columns\n",
    "\n",
    "plt.figure(figsize=(10,6))\n",
    "sns.barplot(x=importances, y=features)\n",
    "plt.title(\"Feature Importance\")\n",
    "plt.show()\n"
   ]
  },
  {
   "cell_type": "code",
   "execution_count": null,
   "id": "a4630228-1ab2-42a0-824f-72eb75c4f2b6",
   "metadata": {},
   "outputs": [],
   "source": [
    "## 🔍 Step 6: Feature Importance\n",
    "\n",
    "The most important features in predicting repeat usage were:\n",
    "- **FinalOutcome**\n",
    "- **SatisfactionRating**\n",
    "- **TotalPrompts**\n",
    "\n",
    "These insights help us understand what motivates students to come back to the AI tool.\n"
   ]
  },
  {
   "cell_type": "code",
   "execution_count": null,
   "id": "323add50-5953-4684-95ff-bdee0480568f",
   "metadata": {},
   "outputs": [],
   "source": []
  }
 ],
 "metadata": {
  "kernelspec": {
   "display_name": "Python [conda env:base] *",
   "language": "python",
   "name": "conda-base-py"
  },
  "language_info": {
   "codemirror_mode": {
    "name": "ipython",
    "version": 3
   },
   "file_extension": ".py",
   "mimetype": "text/x-python",
   "name": "python",
   "nbconvert_exporter": "python",
   "pygments_lexer": "ipython3",
   "version": "3.12.7"
  }
 },
 "nbformat": 4,
 "nbformat_minor": 5
}
